{
 "cells": [
  {
   "cell_type": "code",
   "execution_count": 1,
   "id": "08f36d01",
   "metadata": {
    "ExecuteTime": {
     "end_time": "2022-06-27T21:16:02.124803Z",
     "start_time": "2022-06-27T21:15:48.521838Z"
    }
   },
   "outputs": [],
   "source": [
    "from System import System\n",
    "from Connector import Connector\n",
    "from Query import Query\n",
    "from tests import *"
   ]
  },
  {
   "cell_type": "code",
   "execution_count": 2,
   "id": "44e4a5e7",
   "metadata": {
    "ExecuteTime": {
     "end_time": "2022-06-27T21:16:07.944942Z",
     "start_time": "2022-06-27T21:16:02.126802Z"
    }
   },
   "outputs": [],
   "source": [
    "connector = Connector()\n",
    "connector.connect(\"127.0.0.1\", 9042)\n",
    "connector.set_keyspace('main')\n",
    "system = System(Query(connector))"
   ]
  },
  {
   "cell_type": "markdown",
   "id": "20296b4b",
   "metadata": {},
   "source": [
    "## buying tickets"
   ]
  },
  {
   "cell_type": "code",
   "execution_count": 5,
   "id": "f8e41e8c",
   "metadata": {
    "ExecuteTime": {
     "end_time": "2022-06-27T21:16:21.373323Z",
     "start_time": "2022-06-27T21:16:21.290511Z"
    }
   },
   "outputs": [
    {
     "data": {
      "text/plain": [
       "{'id': 222,\n",
       " 'seat_id': 242,\n",
       " 'film_id': 9,\n",
       " 'price': 666,\n",
       " 'data': \"'2022-06-26 15:40:28.101000'\",\n",
       " 'user': \"'notebook'\"}"
      ]
     },
     "execution_count": 5,
     "metadata": {},
     "output_type": "execute_result"
    }
   ],
   "source": [
    "system.buy_ticket(\"Muppety\", 2, 3, \"notebook\")"
   ]
  },
  {
   "cell_type": "markdown",
   "id": "bc52a76e",
   "metadata": {},
   "source": [
    "## all tickets of user"
   ]
  },
  {
   "cell_type": "code",
   "execution_count": 6,
   "id": "2c416241",
   "metadata": {
    "ExecuteTime": {
     "end_time": "2022-06-27T21:16:22.407893Z",
     "start_time": "2022-06-27T21:16:22.377832Z"
    }
   },
   "outputs": [
    {
     "data": {
      "text/plain": [
       "[{'id': 222,\n",
       "  'data': datetime.datetime(2022, 6, 26, 15, 40, 28, 101000),\n",
       "  'film_id': 9,\n",
       "  'price': 666,\n",
       "  'seat_id': 242,\n",
       "  'user': 'notebook'},\n",
       " {'id': 220,\n",
       "  'data': datetime.datetime(2022, 6, 26, 15, 40, 28, 101000),\n",
       "  'film_id': 9,\n",
       "  'price': 666,\n",
       "  'seat_id': 237,\n",
       "  'user': 'notebook'}]"
      ]
     },
     "execution_count": 6,
     "metadata": {},
     "output_type": "execute_result"
    }
   ],
   "source": [
    "system.get_user_tickets(\"notebook\")"
   ]
  },
  {
   "cell_type": "markdown",
   "id": "8b0fdac8",
   "metadata": {},
   "source": [
    "## all free seats on givin film"
   ]
  },
  {
   "cell_type": "code",
   "execution_count": 6,
   "id": "0c36e71f",
   "metadata": {
    "ExecuteTime": {
     "end_time": "2022-06-27T21:15:20.406475Z",
     "start_time": "2022-06-27T21:15:20.355336Z"
    }
   },
   "outputs": [
    {
     "data": {
      "text/plain": [
       "[{'id': 247, 'cinema_room': 9, 'column': 4, 'free': True, 'row': 2},\n",
       " {'id': 248, 'cinema_room': 9, 'column': 4, 'free': True, 'row': 3},\n",
       " {'id': 225, 'cinema_room': 9, 'column': 0, 'free': True, 'row': 0},\n",
       " {'id': 245, 'cinema_room': 9, 'column': 4, 'free': True, 'row': 0},\n",
       " {'id': 241, 'cinema_room': 9, 'column': 3, 'free': True, 'row': 1},\n",
       " {'id': 234, 'cinema_room': 9, 'column': 1, 'free': True, 'row': 4},\n",
       " {'id': 249, 'cinema_room': 9, 'column': 4, 'free': True, 'row': 4},\n",
       " {'id': 229, 'cinema_room': 9, 'column': 0, 'free': True, 'row': 4},\n",
       " {'id': 244, 'cinema_room': 9, 'column': 3, 'free': True, 'row': 4},\n",
       " {'id': 233, 'cinema_room': 9, 'column': 1, 'free': True, 'row': 3},\n",
       " {'id': 236, 'cinema_room': 9, 'column': 2, 'free': True, 'row': 1},\n",
       " {'id': 243, 'cinema_room': 9, 'column': 3, 'free': True, 'row': 3},\n",
       " {'id': 242, 'cinema_room': 9, 'column': 3, 'free': True, 'row': 2},\n",
       " {'id': 240, 'cinema_room': 9, 'column': 3, 'free': True, 'row': 0},\n",
       " {'id': 226, 'cinema_room': 9, 'column': 0, 'free': True, 'row': 1},\n",
       " {'id': 228, 'cinema_room': 9, 'column': 0, 'free': True, 'row': 3},\n",
       " {'id': 231, 'cinema_room': 9, 'column': 1, 'free': True, 'row': 1},\n",
       " {'id': 227, 'cinema_room': 9, 'column': 0, 'free': True, 'row': 2},\n",
       " {'id': 230, 'cinema_room': 9, 'column': 1, 'free': True, 'row': 0},\n",
       " {'id': 235, 'cinema_room': 9, 'column': 2, 'free': True, 'row': 0},\n",
       " {'id': 246, 'cinema_room': 9, 'column': 4, 'free': True, 'row': 1},\n",
       " {'id': 239, 'cinema_room': 9, 'column': 2, 'free': True, 'row': 4},\n",
       " {'id': 238, 'cinema_room': 9, 'column': 2, 'free': True, 'row': 3},\n",
       " {'id': 232, 'cinema_room': 9, 'column': 1, 'free': True, 'row': 2}]"
      ]
     },
     "execution_count": 6,
     "metadata": {},
     "output_type": "execute_result"
    }
   ],
   "source": [
    "system.get_free_seats_on_film(\"Muppety\")"
   ]
  },
  {
   "cell_type": "markdown",
   "id": "0a240e58",
   "metadata": {},
   "source": [
    "# Testy"
   ]
  },
  {
   "cell_type": "markdown",
   "id": "6a7dd135",
   "metadata": {},
   "source": [
    "## 1. action many times"
   ]
  },
  {
   "cell_type": "code",
   "execution_count": 13,
   "id": "fb0f9a28",
   "metadata": {
    "ExecuteTime": {
     "end_time": "2022-06-27T17:33:03.421610Z",
     "start_time": "2022-06-27T17:32:28.375175Z"
    }
   },
   "outputs": [
    {
     "name": "stdout",
     "output_type": "stream",
     "text": [
      "35.03930068016052\n"
     ]
    }
   ],
   "source": [
    "test_1()"
   ]
  },
  {
   "cell_type": "markdown",
   "id": "b7f07cba",
   "metadata": {},
   "source": [
    "## 2. 2 players make 50 random actions "
   ]
  },
  {
   "cell_type": "code",
   "execution_count": 7,
   "id": "205cb471",
   "metadata": {
    "ExecuteTime": {
     "end_time": "2022-06-27T21:24:24.506991Z",
     "start_time": "2022-06-27T21:24:01.065542Z"
    }
   },
   "outputs": [],
   "source": [
    "test_2()"
   ]
  },
  {
   "cell_type": "markdown",
   "id": "ef7c9c35",
   "metadata": {},
   "source": [
    "## 3. 2 players buy all tickets on 1 movie"
   ]
  },
  {
   "cell_type": "code",
   "execution_count": 8,
   "id": "0bda26c3",
   "metadata": {
    "ExecuteTime": {
     "end_time": "2022-06-27T21:24:48.598635Z",
     "start_time": "2022-06-27T21:24:24.508604Z"
    }
   },
   "outputs": [],
   "source": [
    "test_3()"
   ]
  },
  {
   "cell_type": "code",
   "execution_count": null,
   "id": "36b4fd57",
   "metadata": {},
   "outputs": [],
   "source": []
  }
 ],
 "metadata": {
  "kernelspec": {
   "display_name": "NLP",
   "language": "python",
   "name": "nlp"
  },
  "language_info": {
   "codemirror_mode": {
    "name": "ipython",
    "version": 3
   },
   "file_extension": ".py",
   "mimetype": "text/x-python",
   "name": "python",
   "nbconvert_exporter": "python",
   "pygments_lexer": "ipython3",
   "version": "3.9.7"
  },
  "toc": {
   "base_numbering": 1,
   "nav_menu": {},
   "number_sections": true,
   "sideBar": true,
   "skip_h1_title": false,
   "title_cell": "Table of Contents",
   "title_sidebar": "Contents",
   "toc_cell": false,
   "toc_position": {},
   "toc_section_display": true,
   "toc_window_display": false
  }
 },
 "nbformat": 4,
 "nbformat_minor": 5
}
